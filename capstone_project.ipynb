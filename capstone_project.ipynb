{
 "cells": [
  {
   "cell_type": "code",
   "execution_count": 3,
   "metadata": {
    "collapsed": true
   },
   "outputs": [],
   "source": [
    "import csv"
   ]
  },
  {
   "cell_type": "code",
   "execution_count": null,
   "metadata": {
    "collapsed": true
   },
   "outputs": [],
   "source": [
    "from nltk.tokenize import word_tokenize\n",
    "from nltk import NaiveBayesClassifier as nbc\n",
    "from itertools import chain"
   ]
  },
  {
   "cell_type": "code",
   "execution_count": 39,
   "metadata": {
    "collapsed": false,
    "scrolled": true
   },
   "outputs": [
    {
     "name": "stdout",
     "output_type": "stream",
     "text": [
      "set([('', 'neg'), ('*trading halted: ivs@cn (alpha)-news pending', 'pos'), ('*trading halted: ivs@cn (toronto)-news pending', 'pos'), ('learnbonds: tesla motors inc. (tsla) model x closes dark chapter in its history', 'neg'), ('*erickson seeking approval of $180m in financing', 'neg')])\n"
     ]
    }
   ],
   "source": [
    "training_data = set()\n",
    "\n",
    "# vocabulary = set(chain(*[word_tokenize(i[0].lower()) for i in training_data]))\n",
    "# feature_set = [({i:(i in word_tokenize(keywords.lower())) for i in vocabulary},tag) for keywords, tag in training_data]\n",
    "# classifier = nbc.train(feature_set)\n",
    "# print classifier\n",
    "# test_phrase = '*TRADING HALTED: ABC'\n",
    "# featurized_test_phrase = {i:(i in word_tokenize(test_phrase.lower())) for i in vocabulary}\n",
    "# print classifier.classify(featurized_test_phrase)\n",
    "\n",
    "\n",
    "keywords = ['halted', 'reports results', 'social velocity alert']\n",
    "seen = set()\n",
    "with open('/Users/chrisdorman/PycharmProjects/Thinkful/git/Data_Science/bloomberg_analytics_20161109.csv') as fn:\n",
    "    reader = csv.DictReader(fn)\n",
    "    count = 0\n",
    "    for row in reader:\n",
    "        if count < 30:\n",
    "            count += 1\n",
    "        else:\n",
    "            break\n",
    "        desc = str.lower(row['DESCRIPTION'])\n",
    "        for keyword in keywords:\n",
    "            if desc in seen:\n",
    "                continue\n",
    "            if keyword in desc:\n",
    "                training_data.add((desc, 'pos'))\n",
    "            else:\n",
    "                training_data.add((desc, 'neg'))\n",
    "\n",
    "            seen.add(desc)\n",
    "                \n",
    "\n",
    "print training_data\n",
    "                \n",
    "                \n",
    " "
   ]
  },
  {
   "cell_type": "code",
   "execution_count": null,
   "metadata": {
    "collapsed": true
   },
   "outputs": [],
   "source": []
  }
 ],
 "metadata": {
  "kernelspec": {
   "display_name": "Python 2",
   "language": "python",
   "name": "python2"
  },
  "language_info": {
   "codemirror_mode": {
    "name": "ipython",
    "version": 2
   },
   "file_extension": ".py",
   "mimetype": "text/x-python",
   "name": "python",
   "nbconvert_exporter": "python",
   "pygments_lexer": "ipython2",
   "version": "2.7.12"
  }
 },
 "nbformat": 4,
 "nbformat_minor": 0
}

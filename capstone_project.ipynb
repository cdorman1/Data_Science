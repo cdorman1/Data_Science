{
 "cells": [
  {
   "cell_type": "code",
   "execution_count": 7,
   "metadata": {
    "collapsed": true
   },
   "outputs": [],
   "source": [
    "import csv"
   ]
  },
  {
   "cell_type": "code",
   "execution_count": 9,
   "metadata": {
    "collapsed": true
   },
   "outputs": [],
   "source": [
    "from nltk import word_tokenize\n",
    "from itertools import chain"
   ]
  },
  {
   "cell_type": "code",
   "execution_count": null,
   "metadata": {
    "collapsed": false,
    "scrolled": true
   },
   "outputs": [],
   "source": [
    "training_data = [('*trading halted', 'pos'),\n",
    "                ('trading halt', 'pos'),\n",
    "                ('social velocity alert', 'pos'),\n",
    "                ('reports results', 'pos'),\n",
    "                ('adj eps', 'neg'),\n",
    "                ('net sales', 'neg'),\n",
    "                ('rev.', 'neg')\n",
    "               ]\n",
    "\n",
    "vocabulary = set(chain(*[word_tokenize(i[0].lower()) for i in training_data]))\n",
    "\n",
    "\n",
    "\n",
    "\n",
    "with open('/Users/chrisdorman/PycharmProjects/Thinkful/git/Data_Science/bloomberg_analytics_20161109.csv') as fn:\n",
    "    reader = csv.DictReader(fn)\n",
    "    for row in reader:\n",
    "        tokens = word_tokenize(str.lower(row['DESCRIPTION']))\n",
    "        feature_set = [({i:(i in word_tokenize(keywords.lower())) for i in vocabulary},tag) for keywords, tag in training_data]\n",
    "        "
   ]
  },
  {
   "cell_type": "code",
   "execution_count": null,
   "metadata": {
    "collapsed": true
   },
   "outputs": [],
   "source": []
  }
 ],
 "metadata": {
  "kernelspec": {
   "display_name": "Python 2",
   "language": "python",
   "name": "python2"
  },
  "language_info": {
   "codemirror_mode": {
    "name": "ipython",
    "version": 2
   },
   "file_extension": ".py",
   "mimetype": "text/x-python",
   "name": "python",
   "nbconvert_exporter": "python",
   "pygments_lexer": "ipython2",
   "version": "2.7.12"
  }
 },
 "nbformat": 4,
 "nbformat_minor": 0
}

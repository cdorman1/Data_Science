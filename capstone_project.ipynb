{
 "cells": [
  {
   "cell_type": "code",
   "execution_count": 55,
   "metadata": {
    "collapsed": true
   },
   "outputs": [],
   "source": [
    "import csv\n",
    "import datetime\n",
    "import pandas as pd\n",
    "%matplotlib inline\n",
    "import matplotlib.pyplot as plt"
   ]
  },
  {
   "cell_type": "code",
   "execution_count": 69,
   "metadata": {
    "collapsed": false,
    "scrolled": true
   },
   "outputs": [
    {
     "data": {
      "text/plain": [
       "<matplotlib.axes._subplots.AxesSubplot at 0x112f8e510>"
      ]
     },
     "execution_count": 69,
     "metadata": {},
     "output_type": "execute_result"
    },
    {
     "data": {
      "image/png": "[encoded data removed]",
      "text/plain": [
       "<matplotlib.figure.Figure at 0x112f9a910>"
      ]
     },
     "metadata": {},
     "output_type": "display_data"
    }
   ],
   "source": [
    "training_data = set()\n",
    "path = '/Users/chrisdorman/PycharmProjects/Thinkful/git/Data_Science/ALXN_20161109.csv'\n",
    "data = pd.read_csv(path, sep=\"\\t\")\n",
    "dt = datetime.datetime(2016, 11, 9)\n",
    "tm = datetime.time(0, 0)\n",
    "data['date'] = map(lambda x: str(datetime.datetime.combine(date=dt, time=tm) + datetime.timedelta(seconds=x)), data['nsec'])\n",
    "data['bidprice'] = data['bidprice'] / 10000.\n",
    "df = pd.DataFrame(data, columns=['date', 'bidprice'])\n",
    "df['date'] = pd.to_datetime(df['date'])\n",
    "df.index = df['date']\n",
    "del df['date']\n",
    "df.plot()\n",
    "\n",
    "\n",
    "\n",
    "\n",
    "\n",
    "# keywords = ['trading halted', 'reports results', 'social velocity alert', 'SENTIMENT']\n",
    "# seen = set()\n",
    "# with open('/Users/chrisdorman/PycharmProjects/Thinkful/git/Data_Science/bloomberg_analytics_20161109.csv') as fn:\n",
    "#     reader = csv.DictReader(fn)\n",
    "#     count = 0\n",
    "#     for row in reader:\n",
    "#         symbol = row['SYMBOL']\n",
    "#         if symbol == 'ALXN':\n",
    "#             count += 1\n",
    "#             ess = float(row['ESS'])\n",
    "#             ts = row['TIMESTAMP']\n",
    "#             for keyword in keywords:\n",
    "#                 if ess > 70:\n",
    "#                     training_data.add((str(row), 'pos'))\n",
    "#                 else:\n",
    "#                     training_data.add((str(row), 'neg'))\n",
    "                \n",
    "# for tup in training_data:\n",
    "#     if 'pos' in tup:\n",
    "#         print tup\n",
    "\n",
    "# vocabulary = set(chain(*[word_tokenize(t[0].lower()) for t in training_data]))\n",
    "\n",
    "# feature_set = [({i:(i in word_tokenize(keywords.lower())) for i in vocabulary},tag) for keywords, tag in training_data]\n",
    "\n",
    "# classifier = nbc.train(feature_set)\n",
    "\n",
    "# test_phrase = 'trading halted'\n",
    "\n",
    "# featurized_test_phrase = {i:(i in word_tokenize(test_phrase.lower())) for i in vocabulary}\n",
    "                \n",
    "# print \"test_sent:\",test_phrase\n",
    "# print \"tag:\",classifier.classify(featurized_test_phrase)\n",
    "\n",
    "\n",
    "                \n"
   ]
  }
 ],
 "metadata": {
  "kernelspec": {
   "display_name": "Python 2",
   "language": "python",
   "name": "python2"
  },
  "language_info": {
   "codemirror_mode": {
    "name": "ipython",
    "version": 2
   },
   "file_extension": ".py",
   "mimetype": "text/x-python",
   "name": "python",
   "nbconvert_exporter": "python",
   "pygments_lexer": "ipython2",
   "version": "2.7.12"
  }
 },
 "nbformat": 4,
 "nbformat_minor": 0
}

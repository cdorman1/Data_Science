{
 "cells": [
  {
   "cell_type": "code",
   "execution_count": 1,
   "metadata": {
    "collapsed": true
   },
   "outputs": [],
   "source": [
    "import csv"
   ]
  },
  {
   "cell_type": "code",
   "execution_count": 2,
   "metadata": {
    "collapsed": true
   },
   "outputs": [],
   "source": [
    "from nltk.tokenize import word_tokenize\n",
    "from nltk import NaiveBayesClassifier as nbc\n",
    "from itertools import chain"
   ]
  },
  {
   "cell_type": "code",
   "execution_count": 17,
   "metadata": {
    "collapsed": false,
    "scrolled": true
   },
   "outputs": [
    {
     "name": "stdout",
     "output_type": "stream",
     "text": [
      "test_sent: trading halted\n",
      "tag: neg\n"
     ]
    }
   ],
   "source": [
    "training_data = set()\n",
    "\n",
    "\n",
    "\n",
    "\n",
    "keywords = ['trading halted', 'reports results', 'social velocity alert']\n",
    "seen = set()\n",
    "with open('/Users/chrisdorman/PycharmProjects/Thinkful/git/Data_Science/bloomberg_analytics_20161109.csv') as fn:\n",
    "    reader = csv.DictReader(fn)\n",
    "    count = 0\n",
    "    for row in reader:\n",
    "        symbol = row['SYMBOL']\n",
    "        if symbol == 'AGFS':\n",
    "            count += 1\n",
    "            desc = str.lower(row['DESCRIPTION'])\n",
    "            for keyword in keywords:\n",
    "                if desc in seen:\n",
    "                    continue\n",
    "                elif desc == '':\n",
    "                    continue\n",
    "                else:\n",
    "                    pass\n",
    "                if keyword in desc:\n",
    "                    training_data.add((desc, 'pos'))\n",
    "                else:\n",
    "                    training_data.add((desc, 'neg'))\n",
    "\n",
    "                seen.add(desc)\n",
    "                \n",
    "                \n",
    "vocabulary = set(chain(*[word_tokenize(t[0].lower()) for t in training_data]))\n",
    "\n",
    "feature_set = [({i:(i in word_tokenize(keywords.lower())) for i in vocabulary},tag) for keywords, tag in training_data]\n",
    "\n",
    "classifier = nbc.train(feature_set)\n",
    "\n",
    "test_phrase = 'trading halted'\n",
    "\n",
    "featurized_test_phrase = {i:(i in word_tokenize(test_phrase.lower())) for i in vocabulary}\n",
    "                \n",
    "print \"test_sent:\",test_phrase\n",
    "print \"tag:\",classifier.classify(featurized_test_phrase)"
   ]
  },
  {
   "cell_type": "code",
   "execution_count": null,
   "metadata": {
    "collapsed": true
   },
   "outputs": [],
   "source": [
    ""
   ]
  }
 ],
 "metadata": {
  "kernelspec": {
   "display_name": "Python 2",
   "language": "python",
   "name": "python2"
  },
  "language_info": {
   "codemirror_mode": {
    "name": "ipython",
    "version": 2.0
   },
   "file_extension": ".py",
   "mimetype": "text/x-python",
   "name": "python",
   "nbconvert_exporter": "python",
   "pygments_lexer": "ipython2",
   "version": "2.7.12"
  }
 },
 "nbformat": 4,
 "nbformat_minor": 0
}